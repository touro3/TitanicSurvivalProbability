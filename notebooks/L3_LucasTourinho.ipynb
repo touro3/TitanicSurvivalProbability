{
 "cells": [
  {
   "cell_type": "code",
   "execution_count": 13,
   "metadata": {},
   "outputs": [],
   "source": [
    "import pandas as pd\n",
    "import numpy as np\n",
    "import seaborn as sns\n",
    "import matplotlib.pyplot as plt\n",
    "from sklearn.model_selection import train_test_split\n",
    "from sklearn.preprocessing import StandardScaler\n",
    "from sklearn.ensemble import RandomForestClassifier\n",
    "from sklearn.linear_model import LogisticRegression\n",
    "from sklearn.metrics import accuracy_score\n",
    "from sklearn.ensemble import VotingClassifier\n",
    "from sklearn.metrics import classification_report, confusion_matrix\n",
    "from sklearn.model_selection import cross_val_score\n"
   ]
  },
  {
   "cell_type": "code",
   "execution_count": 4,
   "metadata": {},
   "outputs": [],
   "source": [
    "# Carregar os arquivos CSV\n",
    "train_df = pd.read_csv('/Users/lucastourinho/TitanicSurvivalProbability/data/train.csv')\n",
    "test_df = pd.read_csv('/Users/lucastourinho/TitanicSurvivalProbability/data/test.csv')\n",
    "gender_submission_df = pd.read_csv('/Users/lucastourinho/TitanicSurvivalProbability/data/gender_submission.csv')"
   ]
  },
  {
   "cell_type": "code",
   "execution_count": 5,
   "metadata": {},
   "outputs": [
    {
     "name": "stdout",
     "output_type": "stream",
     "text": [
      "Index(['PassengerId', 'Survived', 'Pclass', 'Name', 'Sex', 'Age', 'SibSp',\n",
      "       'Parch', 'Ticket', 'Fare', 'Cabin', 'Embarked'],\n",
      "      dtype='object')\n"
     ]
    }
   ],
   "source": [
    "# Visualizar colunas relevantes do dataset de treino\n",
    "# O dataset de treino contém a variável 'Survived' que vamos prever\n",
    "print(train_df.columns)"
   ]
  },
  {
   "cell_type": "code",
   "execution_count": 6,
   "metadata": {},
   "outputs": [],
   "source": [
    "# Pré-processamento de dados\n",
    "def preprocess_data(df):\n",
    "    # Manter apenas as colunas relevantes\n",
    "    df = df[['Pclass', 'Sex', 'Age', 'Fare']].copy()\n",
    "    \n",
    "    # Tratar valores faltantes\n",
    "    df['Age'].fillna(df['Age'].mean(), inplace=True)\n",
    "    df['Fare'].fillna(df['Fare'].mean(), inplace=True)\n",
    "    \n",
    "    # Converter a coluna 'Sex' para numérico\n",
    "    df['Sex'] = df['Sex'].map({'male': 0, 'female': 1})\n",
    "    \n",
    "    return df\n",
    "\n",
    "# Pré-processar os dados de treino e teste\n",
    "X_train = preprocess_data(train_df)\n",
    "y_train = train_df['Survived']\n",
    "X_test = preprocess_data(test_df)"
   ]
  },
  {
   "cell_type": "code",
   "execution_count": 7,
   "metadata": {},
   "outputs": [],
   "source": [
    "# Treinamento dos modelos\n",
    "classifiers = [\n",
    "    (\"Random Forest\", RandomForestClassifier(n_estimators=100, max_depth=5, random_state=42)),\n",
    "    (\"Logistic Regression\", LogisticRegression(max_iter=1000, random_state=42))\n",
    "]"
   ]
  },
  {
   "cell_type": "code",
   "execution_count": 9,
   "metadata": {},
   "outputs": [
    {
     "name": "stdout",
     "output_type": "stream",
     "text": [
      "Modelo: Random Forest - Acurácia: 0.9163\n",
      "Modelo: Logistic Regression - Acurácia: 0.9641\n"
     ]
    }
   ],
   "source": [
    "# Aplicar os classificadores\n",
    "for name, clf in classifiers:\n",
    "    # Normalizar os dados e treinar o modelo\n",
    "    scaler = StandardScaler()\n",
    "    X_train_scaled = scaler.fit_transform(X_train)\n",
    "    X_test_scaled = scaler.transform(X_test)\n",
    "    \n",
    "    clf.fit(X_train_scaled, y_train)\n",
    "    \n",
    "    # Fazer previsões no conjunto de teste\n",
    "    predictions = clf.predict(X_test_scaled)\n",
    "    \n",
    "    # Avaliar precisão comparando com gender_submission.csv\n",
    "    submission = gender_submission_df['Survived']\n",
    "    accuracy = accuracy_score(submission, predictions)\n",
    "    \n",
    "    print(f\"Modelo: {name} - Acurácia: {accuracy:.4f}\")"
   ]
  },
  {
   "cell_type": "code",
   "execution_count": 10,
   "metadata": {},
   "outputs": [
    {
     "name": "stdout",
     "output_type": "stream",
     "text": [
      "Modelo Ensemble - Acurácia: 0.9545\n"
     ]
    }
   ],
   "source": [
    "# Treinamento dos modelos individuais\n",
    "rf_clf = RandomForestClassifier(n_estimators=100, max_depth=5, random_state=42)\n",
    "lr_clf = LogisticRegression(max_iter=1000, random_state=42)\n",
    "\n",
    "# Criar o ensemble com VotingClassifier\n",
    "ensemble_clf = VotingClassifier(\n",
    "    estimators=[('rf', rf_clf), ('lr', lr_clf)], voting='soft'\n",
    ")\n",
    "\n",
    "# Normalizar os dados de treino e teste\n",
    "scaler = StandardScaler()\n",
    "X_train_scaled = scaler.fit_transform(X_train)\n",
    "X_test_scaled = scaler.transform(X_test)\n",
    "\n",
    "# Treinar o ensemble\n",
    "ensemble_clf.fit(X_train_scaled, y_train)\n",
    "\n",
    "# Fazer previsões usando o ensemble\n",
    "ensemble_predictions = ensemble_clf.predict(X_test_scaled)\n",
    "\n",
    "# Avaliar precisão do ensemble comparando com gender_submission.csv\n",
    "ensemble_accuracy = accuracy_score(gender_submission_df['Survived'], ensemble_predictions)\n",
    "\n",
    "print(f\"Modelo Ensemble - Acurácia: {ensemble_accuracy:.4f}\")\n"
   ]
  }
 ],
 "metadata": {
  "kernelspec": {
   "display_name": "venv",
   "language": "python",
   "name": "python3"
  },
  "language_info": {
   "codemirror_mode": {
    "name": "ipython",
    "version": 3
   },
   "file_extension": ".py",
   "mimetype": "text/x-python",
   "name": "python",
   "nbconvert_exporter": "python",
   "pygments_lexer": "ipython3",
   "version": "3.11.9"
  }
 },
 "nbformat": 4,
 "nbformat_minor": 2
}
